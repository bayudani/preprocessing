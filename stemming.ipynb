{
 "cells": [
  {
   "cell_type": "code",
   "execution_count": 1,
   "id": "e4190fb8",
   "metadata": {},
   "outputs": [
    {
     "name": "stdout",
     "output_type": "stream",
     "text": [
      "✅ Stemming selesai. Disimpan di 'hasil_stemming.xlsx'\n"
     ]
    }
   ],
   "source": [
    "import pandas as pd\n",
    "from Sastrawi.Stemmer.StemmerFactory import StemmerFactory\n",
    "\n",
    "# Setup stemmer\n",
    "factory = StemmerFactory()\n",
    "stemmer = factory.create_stemmer()\n",
    "\n",
    "# Load hasil stopwords\n",
    "df = pd.read_excel(\"hasil_stopwords_removal.xlsx\")\n",
    "\n",
    "# Stemming\n",
    "df['Stemmed'] = df['No_Stopwords'].apply(\n",
    "    lambda tokens: [stemmer.stem(t) for t in eval(tokens)]\n",
    ")\n",
    "\n",
    "df.to_excel(\"hasil_stemming.xlsx\", index=False)\n",
    "\n",
    "print(\"✅ Stemming selesai. Disimpan di 'hasil_stemming.xlsx'\")\n"
   ]
  }
 ],
 "metadata": {
  "kernelspec": {
   "display_name": "Python 3",
   "language": "python",
   "name": "python3"
  },
  "language_info": {
   "codemirror_mode": {
    "name": "ipython",
    "version": 3
   },
   "file_extension": ".py",
   "mimetype": "text/x-python",
   "name": "python",
   "nbconvert_exporter": "python",
   "pygments_lexer": "ipython3",
   "version": "3.11.4"
  }
 },
 "nbformat": 4,
 "nbformat_minor": 5
}
