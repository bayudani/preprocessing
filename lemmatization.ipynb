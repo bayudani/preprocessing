{
 "cells": [
  {
   "cell_type": "code",
   "execution_count": 1,
   "id": "dc08dec7",
   "metadata": {},
   "outputs": [
    {
     "name": "stderr",
     "output_type": "stream",
     "text": [
      "[nltk_data] Downloading package wordnet to\n",
      "[nltk_data]     C:\\Users\\bayu\\AppData\\Roaming\\nltk_data...\n",
      "[nltk_data]   Package wordnet is already up-to-date!\n"
     ]
    },
    {
     "name": "stdout",
     "output_type": "stream",
     "text": [
      "✅ Lematisasi selesai. Disimpan di 'hasil_lemmatization.xlsx'\n"
     ]
    }
   ],
   "source": [
    "import pandas as pd\n",
    "import nltk\n",
    "from nltk.stem import WordNetLemmatizer\n",
    "nltk.download('wordnet')\n",
    "\n",
    "lemmatizer = WordNetLemmatizer()\n",
    "\n",
    "# Load hasil stemming\n",
    "df = pd.read_excel(\"hasil_stemming.xlsx\")\n",
    "\n",
    "# Lemmatization\n",
    "df['Lemmatized'] = df['Stemmed'].apply(\n",
    "    lambda tokens: [lemmatizer.lemmatize(t) for t in eval(tokens)]\n",
    ")\n",
    "\n",
    "df.to_excel(\"hasil_lemmatization.xlsx\", index=False)\n",
    "\n",
    "print(\"✅ Lematisasi selesai. Disimpan di 'hasil_lemmatization.xlsx'\")\n"
   ]
  }
 ],
 "metadata": {
  "kernelspec": {
   "display_name": "Python 3",
   "language": "python",
   "name": "python3"
  },
  "language_info": {
   "codemirror_mode": {
    "name": "ipython",
    "version": 3
   },
   "file_extension": ".py",
   "mimetype": "text/x-python",
   "name": "python",
   "nbconvert_exporter": "python",
   "pygments_lexer": "ipython3",
   "version": "3.11.4"
  }
 },
 "nbformat": 4,
 "nbformat_minor": 5
}
