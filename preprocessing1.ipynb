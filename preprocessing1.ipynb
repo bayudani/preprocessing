{
 "cells": [
  {
   "cell_type": "code",
   "execution_count": null,
   "id": "2b0be350",
   "metadata": {},
   "outputs": [
    {
     "name": "stderr",
     "output_type": "stream",
     "text": [
      "[nltk_data] Downloading package stopwords to\n",
      "[nltk_data]     C:\\Users\\bayu\\AppData\\Roaming\\nltk_data...\n",
      "[nltk_data]   Package stopwords is already up-to-date!\n",
      "[nltk_data] Downloading package punkt to\n",
      "[nltk_data]     C:\\Users\\bayu\\AppData\\Roaming\\nltk_data...\n",
      "[nltk_data]   Unzipping tokenizers\\punkt.zip.\n",
      "[nltk_data] Downloading package wordnet to\n",
      "[nltk_data]     C:\\Users\\bayu\\AppData\\Roaming\\nltk_data...\n",
      "[nltk_data]   Package wordnet is already up-to-date!\n"
     ]
    },
    {
     "name": "stdout",
     "output_type": "stream",
     "text": [
      "✅ Komentar berhasil dipreprocessing dan disimpan di 'komentar_youtube_preprocessed.xlsx'\n"
     ]
    }
   ],
   "source": [
    "from selenium import webdriver\n",
    "from selenium.webdriver.common.by import By\n",
    "from selenium.webdriver.common.keys import Keys\n",
    "import time\n",
    "import sys\n",
    "import pandas as pd\n",
    "\n",
    "# Cek apakah stdout bisa diatur encoding-nya\n",
    "if hasattr(sys.stdout, \"reconfigure\"):\n",
    "    sys.stdout.reconfigure(encoding=\"utf-8\")\n",
    "\n",
    "# Setup WebDriver dengan mode headless\n",
    "options = webdriver.ChromeOptions()\n",
    "options.add_argument(\"--headless\")\n",
    "options.add_argument(\"--disable-gpu\")\n",
    "options.add_argument(\"--window-size=1920x1080\")\n",
    "options.add_argument(\"--no-sandbox\")\n",
    "options.add_argument(\"--disable-blink-features=AutomationControlled\")\n",
    "\n",
    "driver = webdriver.Chrome(options=options)\n",
    "\n",
    "try:\n",
    "    # Masukkan URL video YouTube\n",
    "    url = \"https://www.youtube.com/watch?v=HCAd6xUXDQM\"\n",
    "    driver.get(url)\n",
    "    time.sleep(5)\n",
    "\n",
    "    # Scroll agar komentar termuat\n",
    "    scroll_count = 50\n",
    "    for _ in range(scroll_count):\n",
    "        driver.find_element(By.TAG_NAME, 'body').send_keys(Keys.END)\n",
    "        time.sleep(1.5)\n",
    "\n",
    "    # Ambil komentar\n",
    "    comments = driver.find_elements(By.CSS_SELECTOR, \"#content-text\")\n",
    "    clean_comments = [comment.text.strip() for comment in comments if comment.text.strip()]\n",
    "\n",
    "    # Ambil hanya 200 komentar pertama\n",
    "    top_comments = clean_comments[:200]\n",
    "\n",
    "    # Tampilkan komentar ke terminal\n",
    "    print(\"\\n=== Daftar 200 Komentar ===\\n\")\n",
    "    for i, comment in enumerate(top_comments):\n",
    "        print(f\"{i+1}. {comment}\\n\")\n",
    "\n",
    "    # Simpan ke file Excel\n",
    "    df = pd.DataFrame({\"No\": range(1, len(top_comments)+1), \"Komentar\": top_comments})\n",
    "    df.to_excel(\"komentar_youtube.xlsx\", index=False, engine='openpyxl')\n",
    "\n",
    "    print(\"✅ Komentar berhasil disimpan ke file 'komentar_youtube.xlsx'!\")\n",
    "\n",
    "except Exception as e:\n",
    "    print(f\"❌ Terjadi error: {e}\")\n",
    "\n",
    "finally:\n",
    "    driver.quit()\n"
   ]
  }
 ],
 "metadata": {
  "kernelspec": {
   "display_name": "Python 3",
   "language": "python",
   "name": "python3"
  },
  "language_info": {
   "codemirror_mode": {
    "name": "ipython",
    "version": 3
   },
   "file_extension": ".py",
   "mimetype": "text/x-python",
   "name": "python",
   "nbconvert_exporter": "python",
   "pygments_lexer": "ipython3",
   "version": "3.11.4"
  }
 },
 "nbformat": 4,
 "nbformat_minor": 5
}
