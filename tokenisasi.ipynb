{
 "cells": [
  {
   "cell_type": "code",
   "execution_count": 1,
   "id": "17fe5e16",
   "metadata": {},
   "outputs": [
    {
     "name": "stderr",
     "output_type": "stream",
     "text": [
      "[nltk_data] Downloading package punkt to\n",
      "[nltk_data]     C:\\Users\\bayu\\AppData\\Roaming\\nltk_data...\n",
      "[nltk_data]   Package punkt is already up-to-date!\n"
     ]
    },
    {
     "name": "stdout",
     "output_type": "stream",
     "text": [
      "✅ Tokenisasi selesai. Disimpan di 'hasil_tokenisasi.xlsx'\n"
     ]
    }
   ],
   "source": [
    "import pandas as pd\n",
    "import nltk\n",
    "from nltk.tokenize import word_tokenize\n",
    "nltk.download('punkt')\n",
    "\n",
    "# Load file komentar mentah\n",
    "df = pd.read_excel(\"komentar_youtube.xlsx\")\n",
    "\n",
    "# Tokenisasi\n",
    "df['Tokens'] = df['Komentar'].astype(str).apply(word_tokenize)\n",
    "\n",
    "# Simpan hasil tokenisasi\n",
    "df.to_excel(\"hasil_tokenisasi.xlsx\", index=False)\n",
    "\n",
    "print(\"✅ Tokenisasi selesai. Disimpan di 'hasil_tokenisasi.xlsx'\")\n"
   ]
  }
 ],
 "metadata": {
  "kernelspec": {
   "display_name": "Python 3",
   "language": "python",
   "name": "python3"
  },
  "language_info": {
   "codemirror_mode": {
    "name": "ipython",
    "version": 3
   },
   "file_extension": ".py",
   "mimetype": "text/x-python",
   "name": "python",
   "nbconvert_exporter": "python",
   "pygments_lexer": "ipython3",
   "version": "3.11.4"
  }
 },
 "nbformat": 4,
 "nbformat_minor": 5
}
