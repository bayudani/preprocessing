{
 "cells": [
  {
   "cell_type": "code",
   "execution_count": null,
   "id": "bcefd4b1",
   "metadata": {},
   "outputs": [
    {
     "name": "stderr",
     "output_type": "stream",
     "text": [
      "[nltk_data] Downloading package stopwords to\n",
      "[nltk_data]     C:\\Users\\bayu\\AppData\\Roaming\\nltk_data...\n",
      "[nltk_data]   Package stopwords is already up-to-date!\n"
     ]
    },
    {
     "name": "stdout",
     "output_type": "stream",
     "text": [
      "✅ Stopwords removal selesai. Disimpan di 'hasil_stopwords_removal.xlsx'\n"
     ]
    }
   ],
   "source": [
    "import pandas as pd\n",
    "import nltk\n",
    "from nltk.corpus import stopwords\n",
    "nltk.download('stopwords')\n",
    "\n",
    "stop_words = set(stopwords.words('indonesian')) | set(stopwords.words('english'))\n",
    "\n",
    "# Load hasil tokenisasi\n",
    "df = pd.read_excel(\"hasil_tokenisasi.xlsx\")\n",
    "# Hapus stopwords\n",
    "df['No_Stopwords'] = df['Tokens'].apply(\n",
    "    lambda tokens: [t for t in eval(tokens) if t.lower() not in stop_words]\n",
    ")\n",
    "\n",
    "# Simpan hasil\n",
    "df.to_excel(\"hasil_stopwords_removal.xlsx\", index=False)\n",
    "\n",
    "print(\"✅ Stopwords removal selesai. Disimpan di 'hasil_stopwords_removal.xlsx'\")\n"
   ]
  }
 ],
 "metadata": {
  "kernelspec": {
   "display_name": "Python 3",
   "language": "python",
   "name": "python3"
  },
  "language_info": {
   "codemirror_mode": {
    "name": "ipython",
    "version": 3
   },
   "file_extension": ".py",
   "mimetype": "text/x-python",
   "name": "python",
   "nbconvert_exporter": "python",
   "pygments_lexer": "ipython3",
   "version": "3.11.4"
  }
 },
 "nbformat": 4,
 "nbformat_minor": 5
}
