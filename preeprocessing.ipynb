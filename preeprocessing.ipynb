{
 "cells": [
  {
   "cell_type": "code",
   "execution_count": 8,
   "metadata": {},
   "outputs": [
    {
     "name": "stdout",
     "output_type": "stream",
     "text": [
      "['Bayangin', ',', 'budget', '1,2T', 'eh', 'tapi', 'developper', 'nya', 'cuma', 'dibayar', 'lima', 'juta', 'dua', 'ratus']\n"
     ]
    }
   ],
   "source": [
    "import nltk\n",
    "# nltk.download('punkt_tab')\n",
    "\n",
    "setence = \"Bayangin, budget 1,2T eh tapi developper nya cuma dibayar lima juta dua ratus\"\n",
    "tokens = nltk.word_tokenize(setence)\n",
    "print(tokens)"
   ]
  },
  {
   "cell_type": "code",
   "execution_count": 11,
   "metadata": {},
   "outputs": [
    {
     "name": "stderr",
     "output_type": "stream",
     "text": [
      "[nltk_data] Downloading package stopwords to\n",
      "[nltk_data]     C:\\Users\\bayu\\AppData\\Roaming\\nltk_data...\n"
     ]
    },
    {
     "name": "stdout",
     "output_type": "stream",
     "text": [
      "['Bayangin', ',', 'budget', '1,2T', 'eh', 'developper', 'nya', 'dibayar', 'juta', 'ratus']\n"
     ]
    },
    {
     "name": "stderr",
     "output_type": "stream",
     "text": [
      "[nltk_data]   Unzipping corpora\\stopwords.zip.\n"
     ]
    }
   ],
   "source": [
    "from nltk.corpus import stopwords\n",
    "nltk.download('stopwords')\n",
    "\n",
    "stop_words = set(stopwords.words('indonesian'))\n",
    "text = \"Bayangin, budget 1,2T eh tapi developper nya cuma dibayar lima juta dua ratus\"\n",
    "tokens = nltk.word_tokenize(text)\n",
    "filtered_text = [word for word in tokens if word.lower() not in stop_words]\n",
    "\n",
    "print(filtered_text)"
   ]
  },
  {
   "cell_type": "code",
   "execution_count": 18,
   "metadata": {},
   "outputs": [
    {
     "name": "stdout",
     "output_type": "stream",
     "text": [
      "bayangin budget 1 2t eh tapi developper nya cuma bayar lima juta dua ratus\n"
     ]
    }
   ],
   "source": [
    "from Sastrawi.Stemmer.StemmerFactory import StemmerFactory\n",
    "factory = StemmerFactory()\n",
    "stemmer = factory.create_stemmer()\n",
    "text = \"Bayangin, budget 1,2T eh tapi developper nya cuma dibayar lima juta dua ratus\"\n",
    "output   = stemmer.stem(text)\n",
    "print(output)"
   ]
  },
  {
   "cell_type": "code",
   "execution_count": 19,
   "metadata": {},
   "outputs": [
    {
     "name": "stderr",
     "output_type": "stream",
     "text": [
      "[nltk_data] Downloading package wordnet to\n",
      "[nltk_data]     C:\\Users\\bayu\\AppData\\Roaming\\nltk_data...\n",
      "[nltk_data]   Package wordnet is already up-to-date!\n"
     ]
    },
    {
     "name": "stdout",
     "output_type": "stream",
     "text": [
      "Bayangin, budget 1,2T eh tapi developper nya cuma dibayar lima juta dua ratus\n"
     ]
    }
   ],
   "source": [
    "from nltk.stem import WordNetLemmatizer\n",
    "nltk.download('wordnet')\n",
    "lemmatizer = WordNetLemmatizer()\n",
    "word = \"Bayangin, budget 1,2T eh tapi developper nya cuma dibayar lima juta dua ratus\"\n",
    "lema = lemmatizer.lemmatize(word)\n",
    "\n",
    "print(lema)"
   ]
  },
  {
   "cell_type": "code",
   "execution_count": null,
   "metadata": {},
   "outputs": [
    {
     "name": "stderr",
     "output_type": "stream",
     "text": [
      "[nltk_data] Downloading package wordnet to\n",
      "[nltk_data]     C:\\Users\\bayu\\AppData\\Roaming\\nltk_data...\n"
     ]
    },
    {
     "data": {
      "text/plain": [
       "True"
      ]
     },
     "execution_count": 17,
     "metadata": {},
     "output_type": "execute_result"
    }
   ],
   "source": []
  },
  {
   "cell_type": "code",
   "execution_count": null,
   "metadata": {},
   "outputs": [],
   "source": [
    "from selenium import webdriver\n",
    "from selenium.webdriver.common.by import By\n",
    "from selenium.webdriver.common.keys import Keys\n",
    "from selenium.webdriver.chrome.service import Service\n",
    "from webdriver_manager.chrome import ChromeDriverManager\n",
    "import time\n",
    "\n",
    "# Inisialisasi webdriver\n",
    "options = webdriver.ChromeOptions()\n",
    "options.add_argument(\"--headless\")  # Untuk menjalankan browser di background\n",
    "driver = webdriver.Chrome(service=Service(ChromeDriverManager().install()), options=options)\n",
    "\n",
    "# Buka Instagram dan login\n",
    "driver.get('https://www.instagram.com/accounts/login/')\n",
    "time.sleep(3)\n",
    "\n",
    "# Masukkan username dan password (gantilah dengan akun Instagram milikmu)\n",
    "username = driver.find_element(By.NAME, 'username')\n",
    "password = driver.find_element(By.NAME, 'password')\n",
    "\n",
    "username.send_keys('YOUR_USERNAME')\n",
    "password.send_keys('YOUR_PASSWORD')\n",
    "password.send_keys(Keys.RETURN)\n",
    "\n",
    "time.sleep(5)\n",
    "\n",
    "# Akses postingan Instagram yang ingin di-scrape\n",
    "post_url = 'https://www.instagram.com/p/DFCYbggyLc8/'\n",
    "driver.get(post_url)\n",
    "time.sleep(3)\n",
    "\n",
    "# Scroll untuk memuat komentar lebih banyak\n",
    "# Ganti jumlah scroll dengan sesuai kebutuhan\n",
    "for _ in range(5):  \n",
    "    driver.execute_script(\"window.scrollTo(0, document.body.scrollHeight);\")\n",
    "    time.sleep(2)\n",
    "\n",
    "# Ambil semua komentar\n",
    "comments = driver.find_elements(By.XPATH, \"//div[@class='xt0psk2']/span\")\n",
    "for comment in comments:\n",
    "    print(comment.text)\n",
    "\n",
    "# Menutup browser\n",
    "driver.quit()\n"
   ]
  }
 ],
 "metadata": {
  "kernelspec": {
   "display_name": "Python 3",
   "language": "python",
   "name": "python3"
  },
  "language_info": {
   "codemirror_mode": {
    "name": "ipython",
    "version": 3
   },
   "file_extension": ".py",
   "mimetype": "text/x-python",
   "name": "python",
   "nbconvert_exporter": "python",
   "pygments_lexer": "ipython3",
   "version": "3.11.4"
  }
 },
 "nbformat": 4,
 "nbformat_minor": 2
}
